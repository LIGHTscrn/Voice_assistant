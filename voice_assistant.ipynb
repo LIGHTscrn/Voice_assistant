{
 "cells": [
  {
   "cell_type": "code",
   "execution_count": 93,
   "metadata": {},
   "outputs": [
    {
     "name": "stdout",
     "output_type": "stream",
     "text": [
      "Collecting pyaudio\n",
      "  Downloading PyAudio-0.2.14-cp312-cp312-win_amd64.whl.metadata (2.7 kB)\n",
      "Downloading PyAudio-0.2.14-cp312-cp312-win_amd64.whl (164 kB)\n",
      "Installing collected packages: pyaudio\n",
      "Successfully installed pyaudio-0.2.14\n",
      "Note: you may need to restart the kernel to use updated packages.\n"
     ]
    }
   ],
   "source": [
    "pip install pyaudio"
   ]
  },
  {
   "cell_type": "code",
   "execution_count": 124,
   "metadata": {},
   "outputs": [
    {
     "name": "stdout",
     "output_type": "stream",
     "text": [
      "Collecting pipwin\n",
      "  Downloading pipwin-0.5.2.tar.gz (7.9 kB)\n",
      "  Preparing metadata (setup.py): started\n",
      "  Preparing metadata (setup.py): finished with status 'done'\n",
      "Collecting docopt (from pipwin)\n",
      "  Downloading docopt-0.6.2.tar.gz (25 kB)\n",
      "  Preparing metadata (setup.py): started\n",
      "  Preparing metadata (setup.py): finished with status 'done'\n",
      "Requirement already satisfied: requests in c:\\softwares\\python\\lib\\site-packages (from pipwin) (2.32.2)\n",
      "Collecting pyprind (from pipwin)\n",
      "  Downloading PyPrind-2.11.3-py2.py3-none-any.whl.metadata (1.1 kB)\n",
      "Requirement already satisfied: six in c:\\softwares\\python\\lib\\site-packages (from pipwin) (1.16.0)\n",
      "Requirement already satisfied: beautifulsoup4>=4.9.0 in c:\\softwares\\python\\lib\\site-packages (from pipwin) (4.12.3)\n",
      "Collecting js2py (from pipwin)\n",
      "  Downloading Js2Py-0.74-py3-none-any.whl.metadata (868 bytes)\n",
      "Requirement already satisfied: packaging in c:\\softwares\\python\\lib\\site-packages (from pipwin) (23.2)\n",
      "Collecting pySmartDL>=1.3.1 (from pipwin)\n",
      "  Downloading pySmartDL-1.3.4-py3-none-any.whl.metadata (2.8 kB)\n",
      "Requirement already satisfied: soupsieve>1.2 in c:\\softwares\\python\\lib\\site-packages (from beautifulsoup4>=4.9.0->pipwin) (2.6)\n",
      "Collecting tzlocal>=1.2 (from js2py->pipwin)\n",
      "  Downloading tzlocal-5.2-py3-none-any.whl.metadata (7.8 kB)\n",
      "Collecting pyjsparser>=2.5.1 (from js2py->pipwin)\n",
      "  Downloading pyjsparser-2.7.1.tar.gz (24 kB)\n",
      "  Preparing metadata (setup.py): started\n",
      "  Preparing metadata (setup.py): finished with status 'done'\n",
      "Requirement already satisfied: charset-normalizer<4,>=2 in c:\\softwares\\python\\lib\\site-packages (from requests->pipwin) (3.3.2)\n",
      "Requirement already satisfied: idna<4,>=2.5 in c:\\softwares\\python\\lib\\site-packages (from requests->pipwin) (3.7)\n",
      "Requirement already satisfied: urllib3<3,>=1.21.1 in c:\\softwares\\python\\lib\\site-packages (from requests->pipwin) (2.2.2)\n",
      "Requirement already satisfied: certifi>=2017.4.17 in c:\\softwares\\python\\lib\\site-packages (from requests->pipwin) (2024.7.4)\n",
      "Requirement already satisfied: tzdata in c:\\softwares\\python\\lib\\site-packages (from tzlocal>=1.2->js2py->pipwin) (2024.1)\n",
      "Downloading pySmartDL-1.3.4-py3-none-any.whl (20 kB)\n",
      "Downloading Js2Py-0.74-py3-none-any.whl (1.0 MB)\n",
      "   ---------------------------------------- 0.0/1.0 MB ? eta -:--:--\n",
      "   ---------------------------------------- 0.0/1.0 MB ? eta -:--:--\n",
      "   ---------------------------------------- 0.0/1.0 MB ? eta -:--:--\n",
      "   ---------------------------------------- 0.0/1.0 MB ? eta -:--:--\n",
      "   ---------------------------------------- 0.0/1.0 MB ? eta -:--:--\n",
      "   ---------------------------------------- 0.0/1.0 MB ? eta -:--:--\n",
      "   ---------------------------------------- 0.0/1.0 MB ? eta -:--:--\n",
      "   ---------------------------------------- 0.0/1.0 MB ? eta -:--:--\n",
      "   ---------------------------------------- 0.0/1.0 MB ? eta -:--:--\n",
      "   ---------------------------------------- 0.0/1.0 MB ? eta -:--:--\n",
      "   ---------------------------------------- 0.0/1.0 MB ? eta -:--:--\n",
      "   ---------------------------------------- 0.0/1.0 MB ? eta -:--:--\n",
      "   ---------- ----------------------------- 0.3/1.0 MB ? eta -:--:--\n",
      "   ---------- ----------------------------- 0.3/1.0 MB ? eta -:--:--\n",
      "   ---------- ----------------------------- 0.3/1.0 MB ? eta -:--:--\n",
      "   ---------- ----------------------------- 0.3/1.0 MB ? eta -:--:--\n",
      "   ---------- ----------------------------- 0.3/1.0 MB ? eta -:--:--\n",
      "   ---------- ----------------------------- 0.3/1.0 MB ? eta -:--:--\n",
      "   ---------- ----------------------------- 0.3/1.0 MB ? eta -:--:--\n",
      "   ---------- ----------------------------- 0.3/1.0 MB ? eta -:--:--\n",
      "   ---------- ----------------------------- 0.3/1.0 MB ? eta -:--:--\n",
      "   ---------- ----------------------------- 0.3/1.0 MB ? eta -:--:--\n",
      "   ---------- ----------------------------- 0.3/1.0 MB ? eta -:--:--\n",
      "   ---------- ----------------------------- 0.3/1.0 MB ? eta -:--:--\n",
      "   ---------- ----------------------------- 0.3/1.0 MB ? eta -:--:--\n",
      "   ---------- ----------------------------- 0.3/1.0 MB ? eta -:--:--\n",
      "   ---------- ----------------------------- 0.3/1.0 MB ? eta -:--:--\n",
      "   ---------- ----------------------------- 0.3/1.0 MB ? eta -:--:--\n",
      "   -------------------- ------------------- 0.5/1.0 MB 76.6 kB/s eta 0:00:07\n",
      "   -------------------- ------------------- 0.5/1.0 MB 76.6 kB/s eta 0:00:07\n",
      "   -------------------- ------------------- 0.5/1.0 MB 76.6 kB/s eta 0:00:07\n",
      "   -------------------- ------------------- 0.5/1.0 MB 76.6 kB/s eta 0:00:07\n",
      "   -------------------- ------------------- 0.5/1.0 MB 76.6 kB/s eta 0:00:07\n",
      "   -------------------- ------------------- 0.5/1.0 MB 76.6 kB/s eta 0:00:07\n",
      "   -------------------- ------------------- 0.5/1.0 MB 76.6 kB/s eta 0:00:07\n",
      "   -------------------- ------------------- 0.5/1.0 MB 76.6 kB/s eta 0:00:07\n",
      "   -------------------- ------------------- 0.5/1.0 MB 76.6 kB/s eta 0:00:07\n",
      "   -------------------- ------------------- 0.5/1.0 MB 76.6 kB/s eta 0:00:07\n",
      "   -------------------- ------------------- 0.5/1.0 MB 76.6 kB/s eta 0:00:07\n",
      "   -------------------- ------------------- 0.5/1.0 MB 76.6 kB/s eta 0:00:07\n",
      "   -------------------- ------------------- 0.5/1.0 MB 76.6 kB/s eta 0:00:07\n",
      "   -------------------- ------------------- 0.5/1.0 MB 76.6 kB/s eta 0:00:07\n",
      "   -------------------- ------------------- 0.5/1.0 MB 76.6 kB/s eta 0:00:07\n",
      "   -------------------- ------------------- 0.5/1.0 MB 76.6 kB/s eta 0:00:07\n",
      "   -------------------- ------------------- 0.5/1.0 MB 76.6 kB/s eta 0:00:07\n",
      "   -------------------- ------------------- 0.5/1.0 MB 76.6 kB/s eta 0:00:07\n",
      "   -------------------- ------------------- 0.5/1.0 MB 76.6 kB/s eta 0:00:07\n",
      "   -------------------- ------------------- 0.5/1.0 MB 76.6 kB/s eta 0:00:07\n",
      "   -------------------- ------------------- 0.5/1.0 MB 76.6 kB/s eta 0:00:07\n",
      "   ------------------------------ --------- 0.8/1.0 MB 68.9 kB/s eta 0:00:04\n",
      "   ------------------------------ --------- 0.8/1.0 MB 68.9 kB/s eta 0:00:04\n",
      "   ------------------------------ --------- 0.8/1.0 MB 68.9 kB/s eta 0:00:04\n",
      "   ------------------------------ --------- 0.8/1.0 MB 68.9 kB/s eta 0:00:04\n",
      "   ------------------------------ --------- 0.8/1.0 MB 68.9 kB/s eta 0:00:04\n",
      "   ------------------------------ --------- 0.8/1.0 MB 68.9 kB/s eta 0:00:04\n",
      "   ------------------------------ --------- 0.8/1.0 MB 68.9 kB/s eta 0:00:04\n",
      "   ------------------------------ --------- 0.8/1.0 MB 68.9 kB/s eta 0:00:04\n",
      "   ------------------------------ --------- 0.8/1.0 MB 68.9 kB/s eta 0:00:04\n",
      "   ------------------------------ --------- 0.8/1.0 MB 68.9 kB/s eta 0:00:04\n",
      "   ------------------------------ --------- 0.8/1.0 MB 68.9 kB/s eta 0:00:04\n",
      "   ------------------------------ --------- 0.8/1.0 MB 68.9 kB/s eta 0:00:04\n",
      "   ------------------------------ --------- 0.8/1.0 MB 68.9 kB/s eta 0:00:04\n",
      "   ------------------------------ --------- 0.8/1.0 MB 68.9 kB/s eta 0:00:04\n",
      "   ------------------------------ --------- 0.8/1.0 MB 68.9 kB/s eta 0:00:04\n",
      "   ------------------------------ --------- 0.8/1.0 MB 68.9 kB/s eta 0:00:04\n",
      "   ------------------------------ --------- 0.8/1.0 MB 68.9 kB/s eta 0:00:04\n",
      "   ------------------------------ --------- 0.8/1.0 MB 68.9 kB/s eta 0:00:04\n",
      "   ------------------------------ --------- 0.8/1.0 MB 68.9 kB/s eta 0:00:04\n",
      "   ------------------------------ --------- 0.8/1.0 MB 68.9 kB/s eta 0:00:04\n",
      "   ---------------------------------------- 1.0/1.0 MB 65.6 kB/s eta 0:00:00\n",
      "Downloading PyPrind-2.11.3-py2.py3-none-any.whl (8.4 kB)\n",
      "Downloading tzlocal-5.2-py3-none-any.whl (17 kB)\n",
      "Building wheels for collected packages: pipwin, docopt, pyjsparser\n",
      "  Building wheel for pipwin (setup.py): started\n",
      "  Building wheel for pipwin (setup.py): finished with status 'done'\n",
      "  Created wheel for pipwin: filename=pipwin-0.5.2-py2.py3-none-any.whl size=8795 sha256=c492eb8f94d085971b8e20169c194a098d464d5049204882043032823220c600\n",
      "  Stored in directory: c:\\users\\prana\\appdata\\local\\pip\\cache\\wheels\\e8\\b5\\1d\\b94f69a230c016fe50ed36399dec48b34b82a11e4f344e9ccb\n",
      "  Building wheel for docopt (setup.py): started\n",
      "  Building wheel for docopt (setup.py): finished with status 'done'\n",
      "  Created wheel for docopt: filename=docopt-0.6.2-py2.py3-none-any.whl size=13775 sha256=898cada6601c53c7a75676bf755af7607e26bb6210563a516a10d18270583ee9\n",
      "  Stored in directory: c:\\users\\prana\\appdata\\local\\pip\\cache\\wheels\\1a\\bf\\a1\\4cee4f7678c68c5875ca89eaccf460593539805c3906722228\n",
      "  Building wheel for pyjsparser (setup.py): started\n",
      "  Building wheel for pyjsparser (setup.py): finished with status 'done'\n",
      "  Created wheel for pyjsparser: filename=pyjsparser-2.7.1-py3-none-any.whl size=25989 sha256=4142d61023cca46bb01c197cb9cbcbc00f262785cebf5476d812d49aeb6d1da7\n",
      "  Stored in directory: c:\\users\\prana\\appdata\\local\\pip\\cache\\wheels\\14\\32\\1d\\9ef7b582e358446aeef4b9052aa89ef4dffa1688c1aae8aa13\n",
      "Successfully built pipwin docopt pyjsparser\n",
      "Installing collected packages: pySmartDL, pyprind, pyjsparser, docopt, tzlocal, js2py, pipwin\n",
      "Successfully installed docopt-0.6.2 js2py-0.74 pipwin-0.5.2 pySmartDL-1.3.4 pyjsparser-2.7.1 pyprind-2.11.3 tzlocal-5.2\n",
      "Note: you may need to restart the kernel to use updated packages.\n"
     ]
    }
   ],
   "source": [
    "pip install pipwin"
   ]
  },
  {
   "cell_type": "code",
   "execution_count": 21,
   "metadata": {},
   "outputs": [
    {
     "name": "stdout",
     "output_type": "stream",
     "text": [
      "Requirement already satisfied: SpeechRecognition in c:\\softwares\\python\\lib\\site-packages (3.10.4)Note: you may need to restart the kernel to use updated packages.\n",
      "\n",
      "Requirement already satisfied: requests>=2.26.0 in c:\\softwares\\python\\lib\\site-packages (from SpeechRecognition) (2.32.2)\n",
      "Requirement already satisfied: typing-extensions in c:\\softwares\\python\\lib\\site-packages (from SpeechRecognition) (4.12.2)\n",
      "Requirement already satisfied: charset-normalizer<4,>=2 in c:\\softwares\\python\\lib\\site-packages (from requests>=2.26.0->SpeechRecognition) (3.3.2)\n",
      "Requirement already satisfied: idna<4,>=2.5 in c:\\softwares\\python\\lib\\site-packages (from requests>=2.26.0->SpeechRecognition) (3.7)\n",
      "Requirement already satisfied: urllib3<3,>=1.21.1 in c:\\softwares\\python\\lib\\site-packages (from requests>=2.26.0->SpeechRecognition) (2.2.2)\n",
      "Requirement already satisfied: certifi>=2017.4.17 in c:\\softwares\\python\\lib\\site-packages (from requests>=2.26.0->SpeechRecognition) (2024.7.4)\n"
     ]
    }
   ],
   "source": [
    "pip install SpeechRecognition"
   ]
  },
  {
   "cell_type": "code",
   "execution_count": 22,
   "metadata": {},
   "outputs": [
    {
     "name": "stdout",
     "output_type": "stream",
     "text": [
      "Requirement already satisfied: pyttsx3 in c:\\softwares\\python\\lib\\site-packages (2.98)\n",
      "Requirement already satisfied: comtypes in c:\\softwares\\python\\lib\\site-packages (from pyttsx3) (1.4.7)\n",
      "Requirement already satisfied: pypiwin32 in c:\\softwares\\python\\lib\\site-packages (from pyttsx3) (223)\n",
      "Requirement already satisfied: pywin32 in c:\\softwares\\python\\lib\\site-packages (from pyttsx3) (306)\n",
      "Note: you may need to restart the kernel to use updated packages.\n"
     ]
    }
   ],
   "source": [
    "pip install pyttsx3"
   ]
  },
  {
   "cell_type": "code",
   "execution_count": 25,
   "metadata": {},
   "outputs": [
    {
     "name": "stdout",
     "output_type": "stream",
     "text": [
      "Collecting wikipedia\n",
      "  Using cached wikipedia-1.4.0-py3-none-any.whl\n",
      "Requirement already satisfied: beautifulsoup4 in c:\\softwares\\python\\lib\\site-packages (from wikipedia) (4.12.3)\n",
      "Requirement already satisfied: requests<3.0.0,>=2.0.0 in c:\\softwares\\python\\lib\\site-packages (from wikipedia) (2.32.2)\n",
      "Requirement already satisfied: charset-normalizer<4,>=2 in c:\\softwares\\python\\lib\\site-packages (from requests<3.0.0,>=2.0.0->wikipedia) (3.3.2)\n",
      "Requirement already satisfied: idna<4,>=2.5 in c:\\softwares\\python\\lib\\site-packages (from requests<3.0.0,>=2.0.0->wikipedia) (3.7)\n",
      "Requirement already satisfied: urllib3<3,>=1.21.1 in c:\\softwares\\python\\lib\\site-packages (from requests<3.0.0,>=2.0.0->wikipedia) (2.2.2)\n",
      "Requirement already satisfied: certifi>=2017.4.17 in c:\\softwares\\python\\lib\\site-packages (from requests<3.0.0,>=2.0.0->wikipedia) (2024.7.4)\n",
      "Requirement already satisfied: soupsieve>1.2 in c:\\softwares\\python\\lib\\site-packages (from beautifulsoup4->wikipedia) (2.6)\n",
      "Installing collected packages: wikipedia\n",
      "Successfully installed wikipedia-1.4.0\n",
      "Note: you may need to restart the kernel to use updated packages.\n"
     ]
    }
   ],
   "source": [
    "pip install wikipedia"
   ]
  },
  {
   "cell_type": "code",
   "execution_count": 82,
   "metadata": {},
   "outputs": [],
   "source": [
    "import pyttsx3\n",
    "import datetime\n",
    "import speech_recognition as sr ##for getting input voices \n",
    "import wikipedia  ##for surfing wikipedia\n",
    "import os  ##for opening files\n",
    "import webbrowser ##for opening web browser"
   ]
  },
  {
   "cell_type": "code",
   "execution_count": 94,
   "metadata": {},
   "outputs": [],
   "source": [
    "import pyaudio"
   ]
  },
  {
   "cell_type": "code",
   "execution_count": 83,
   "metadata": {},
   "outputs": [],
   "source": [
    "engine = pyttsx3.init('sapi5')\n",
    "voices = engine.getProperty('voices')\n",
    "engine.setProperty('voice', voices[1].id)"
   ]
  },
  {
   "cell_type": "code",
   "execution_count": 84,
   "metadata": {},
   "outputs": [],
   "source": [
    "def speak(audio):\n",
    "    engine.say(audio)\n",
    "    engine.runAndWait()\n",
    "\n",
    "def greet():\n",
    "    hour = int(datetime.datetime.now().hour)\n",
    "    if hour > 0 and hour < 12:\n",
    "        speak(\"Good Morning\")\n",
    "    elif hour >= 12 and hour <= 18:\n",
    "        speak(\"Good Afternoon\")\n",
    "    elif hour >= 18 and hour <= 20:\n",
    "        speak(\"Good Evening\")\n",
    "    else:\n",
    "        speak(\"Good Night\")\n",
    "\n",
    "\n",
    "        "
   ]
  },
  {
   "cell_type": "code",
   "execution_count": 131,
   "metadata": {},
   "outputs": [],
   "source": [
    "def command():\n",
    "    r = sr.Recognizer()\n",
    "    with sr.Microphone() as source:\n",
    "        print(\"Adjusting for ambient noise...\")\n",
    "        r.adjust_for_ambient_noise(source, duration=1)  # Adjust for noise\n",
    "        print(\"Listening...\")\n",
    "        r.pause_threshold = 1\n",
    "        audio = r.listen(source)\n",
    "\n",
    "    try:\n",
    "        print(\"Recognizing...\")\n",
    "        query = r.recognize_google(audio, language='en-US')\n",
    "        print(f\"You said: {query}\\n\")\n",
    "\n",
    "    except Exception as e:\n",
    "        print(f\"Say that again please...{e}\")\n",
    "        return \"None\"\n",
    "    return query"
   ]
  },
  {
   "cell_type": "code",
   "execution_count": 136,
   "metadata": {},
   "outputs": [
    {
     "name": "stdout",
     "output_type": "stream",
     "text": [
      "Adjusting for ambient noise...\n",
      "Listening...\n",
      "Recognizing...\n",
      "You said: play music\n",
      "\n"
     ]
    }
   ],
   "source": [
    "if __name__ == \"__main__\":\n",
    "    greet()\n",
    "    if 1:\n",
    "        query = command().lower()\n",
    "        if 'wikipedia' in query:\n",
    "            speak('Searching Wikipedia...')\n",
    "            query = query.replace(\"wikipedia\", \"\")\n",
    "            results = wikipedia.summary(f\"{query}\", sentences=2)\n",
    "            speak(\"According to Wikipedia\")\n",
    "            print(results)\n",
    "            speak(results)\n",
    "        elif 'open youtube' in query:\n",
    "            webbrowser.open(\"youtube.com\")\n",
    "        elif 'open google' in query:\n",
    "            webbrowser.open(\"google.com\")\n",
    "        elif 'open instagram' in query:\n",
    "            webbrowser.open(\"instagram.com\")\n",
    "        elif 'open facebook' in query:\n",
    "            webbrowser.open(\"facebook.com\")\n",
    "        elif 'open twitter' in query:\n",
    "            webbrowser.open(\"twitter.com\")\n",
    "        elif 'open linkedin' in query:\n",
    "            webbrowser.open(\"linkedin.com\")\n",
    "        elif 'open keagle' in query:\n",
    "            webbrowser.open(\"keagle.com\")\n",
    "        elif 'play music' in query:\n",
    "            music_dir = 'path to your music directory'\n",
    "            songs = os.listdir(music_dir)\n",
    "            if songs:\n",
    "                os.startfile(os.path.join(music_dir, songs[0]))\n",
    "            else:\n",
    "                speak(\"No music files found in the directory\")\n",
    "        else:\n",
    "            speak(\"I am sorry, I can't help you with that\")"
   ]
  },
  {
   "cell_type": "code",
   "execution_count": null,
   "metadata": {},
   "outputs": [],
   "source": []
  }
 ],
 "metadata": {
  "kernelspec": {
   "display_name": "Python 3",
   "language": "python",
   "name": "python3"
  },
  "language_info": {
   "codemirror_mode": {
    "name": "ipython",
    "version": 3
   },
   "file_extension": ".py",
   "mimetype": "text/x-python",
   "name": "python",
   "nbconvert_exporter": "python",
   "pygments_lexer": "ipython3",
   "version": "3.12.4"
  }
 },
 "nbformat": 4,
 "nbformat_minor": 2
}
